{
 "cells": [
  {
   "cell_type": "code",
   "execution_count": 2,
   "metadata": {},
   "outputs": [],
   "source": [
    "import random"
   ]
  },
  {
   "cell_type": "code",
   "execution_count": 4,
   "metadata": {},
   "outputs": [],
   "source": [
    "def player(prev_play, opponent_history=[]):\n",
    "    opponent_history.append(prev_play)\n",
    "\n",
    "    guesses = [\"R\", \"P\", \"S\"]\n",
    "    guess = random.choice(guesses) \n",
    "\n",
    "    defeated_by = { \"R\" : \"P\",\n",
    "                    \"P\" : \"S\",\n",
    "                    \"S\" : \"R\", \n",
    "                    \"\" : guess }\n",
    "\n",
    "    defeats = { \"P\" : \"R\",\n",
    "                \"R\" : \"S\",\n",
    "                \"S\" : \"P\", \n",
    "                \"\" : guess }\n",
    "\n",
    "    if len(opponent_history):\n",
    "      guess = defeated_by[prev_play]\n",
    "\n",
    "    return guess"
   ]
  },
  {
   "cell_type": "code",
   "execution_count": 7,
   "metadata": {},
   "outputs": [],
   "source": [
    "class MarkovChain():\n",
    "    \n",
    "    def __init__(self, decay=1.0):\n",
    "        self.matrix = self.create_matrix()\n",
    "        self.decay = decay\n",
    "        \n",
    "    def create_matrix(self):\n",
    "        keys = ['PP', 'PR', 'PS', 'RP', 'RR', 'RS', 'SP', 'SR', 'SS']\n",
    "        \n",
    "        for key in keys:\n",
    "            matrix[key] = {'R': {'prob' : 1 / 3,\n",
    "                                 'n_occ' : 0\n",
    "                                },\n",
    "                           'P': {'prob' : 1 / 3,\n",
    "                                 'n_occ' : 0\n",
    "                                },\n",
    "                           'S': {'prob' : 1 / 3,\n",
    "                                 'n_cc' : 0\n",
    "                                }}\n",
    "            \n",
    "        return matrix\n",
    "    \n",
    "    def update_matrix(self, key, prev_play):\n",
    "\n",
    "        for i in self.matrix[key]:\n",
    "            self.matrix[key][i]['n_occ'] = self.decay * self.matrix[key][i]['n_occ']\n",
    "            \n",
    "        self.matrix[key][prev_play]['n_occ'] = self.matrix[key][prev_play]['n_occ'] + 1\n",
    "\n",
    "        total = 0\n",
    "        for i in self.matrix[key]:\n",
    "                total += self.matrix[key][i]['n_occ']\n",
    "                \n",
    "        for i in self.matrix[key]:\n",
    "            self.matrix[key][i]['prob'] = self.matrix[key][i]['n_occ'] / total\n",
    "        \n",
    "    def predict(self, key):\n",
    "        \n",
    "        probs = self.matrix[key]\n",
    "        \n",
    "        if max(probs.values()) == min(probs.values()):\n",
    "            return random.choice(['R', 'P', 'S'])\n",
    "        \n",
    "        else:\n",
    "            return max([(i[1], i[0]) for i in probs.items()])[1]"
   ]
  },
  {
   "cell_type": "code",
   "execution_count": 8,
   "metadata": {},
   "outputs": [],
   "source": [
    "defeated_by = { \"R\" : \"P\",\n",
    "                \"P\" : \"S\",\n",
    "                \"S\" : \"R\",}"
   ]
  },
  {
   "cell_type": "code",
   "execution_count": null,
   "metadata": {},
   "outputs": [],
   "source": []
  }
 ],
 "metadata": {
  "kernelspec": {
   "display_name": "Python 3",
   "language": "python",
   "name": "python3"
  },
  "language_info": {
   "codemirror_mode": {
    "name": "ipython",
    "version": 3
   },
   "file_extension": ".py",
   "mimetype": "text/x-python",
   "name": "python",
   "nbconvert_exporter": "python",
   "pygments_lexer": "ipython3",
   "version": "3.7.6"
  }
 },
 "nbformat": 4,
 "nbformat_minor": 4
}
